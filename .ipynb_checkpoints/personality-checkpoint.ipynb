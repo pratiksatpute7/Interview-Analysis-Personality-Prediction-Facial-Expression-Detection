{
 "cells": [
  {
   "cell_type": "code",
   "execution_count": null,
   "metadata": {},
   "outputs": [],
   "source": [
    "import pickle\n",
    "def personality(l1):\n",
    "    loaded_model = pickle.load(open('C:\\\\Users\\\\91996\\\\Personality-prediction-system\\\\finalized_model.sav', 'rb'))\n",
    "    #Xnew = [[0,24,0.75,5,6,7,2]]\n",
    "    y_pred = loaded_model.predict(l1)\n",
    "    print(y_pred)\n",
    "    return y_pred"
   ]
  }
 ],
 "metadata": {
  "kernelspec": {
   "display_name": "Python 3",
   "language": "python",
   "name": "python3"
  },
  "language_info": {
   "codemirror_mode": {
    "name": "ipython",
    "version": 3
   },
   "file_extension": ".py",
   "mimetype": "text/x-python",
   "name": "python",
   "nbconvert_exporter": "python",
   "pygments_lexer": "ipython3",
   "version": "3.6.7"
  }
 },
 "nbformat": 4,
 "nbformat_minor": 2
}
